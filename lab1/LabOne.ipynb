{
 "cells": [
  {
   "cell_type": "code",
   "execution_count": 1,
   "id": "7d38f8df",
   "metadata": {},
   "outputs": [],
   "source": [
    "import pandas as pd\n",
    "import numpy as np"
   ]
  },
  {
   "cell_type": "code",
   "execution_count": 2,
   "id": "15352255",
   "metadata": {},
   "outputs": [],
   "source": [
    "Energy = pd.read_excel (r'D:\\projects\\thirdCourse\\Python\\lab1\\Lab1_Dataset\\En_In.xls', sheet_name='Energy', skiprows = 16, nrows=228)\n",
    "Energy.drop(Energy.columns[[0, 1]], axis=1, inplace = True)\n",
    "Energy.columns = ['Country', 'Energy Supply', 'Energy Supply per Capita', '% Renewable']\n",
    "Energy.loc[1:, ['Energy Supply', 'Energy Supply per Capita', '% Renewable']] = Energy.loc[1:, ['Energy Supply', 'Energy Supply per Capita', '% Renewable']].apply(pd.to_numeric, errors='coerce')\n",
    "Energy.loc[1:, 'Energy Supply'] *= 1000000\n",
    "Energy['Country'] = Energy['Country'].str.replace(\"Republic of Korea\", \"South Korea\")\n",
    "Energy['Country'] = Energy['Country'].str.replace(\"United States of America\", \"United States\")\n",
    "Energy['Country'] = Energy['Country'].str.replace(\"United Kingdom of Great Britain and Northern Ireland\", \"United Kingdom\")\n",
    "Energy['Country'] = Energy['Country'].str.replace(\"China, Hong Kong Special Administrative Region\", \"Hong Kong\")\n",
    "Energy['Country'] = Energy['Country'].str.replace(r\"\\s*\\([^()]*\\)\", \"\", regex=True).str.strip()\n",
    "Energy['Country'] = Energy['Country'].str.replace(r\"\\d+\", \"\", regex=True)"
   ]
  },
  {
   "cell_type": "code",
   "execution_count": 3,
   "id": "b81bdf67",
   "metadata": {},
   "outputs": [
    {
     "data": {
      "text/html": [
       "<div>\n",
       "<style scoped>\n",
       "    .dataframe tbody tr th:only-of-type {\n",
       "        vertical-align: middle;\n",
       "    }\n",
       "\n",
       "    .dataframe tbody tr th {\n",
       "        vertical-align: top;\n",
       "    }\n",
       "\n",
       "    .dataframe thead th {\n",
       "        text-align: right;\n",
       "    }\n",
       "</style>\n",
       "<table border=\"1\" class=\"dataframe\">\n",
       "  <thead>\n",
       "    <tr style=\"text-align: right;\">\n",
       "      <th></th>\n",
       "      <th>Country</th>\n",
       "      <th>Energy Supply</th>\n",
       "      <th>Energy Supply per Capita</th>\n",
       "      <th>% Renewable</th>\n",
       "    </tr>\n",
       "  </thead>\n",
       "  <tbody>\n",
       "    <tr>\n",
       "      <th>4</th>\n",
       "      <td>American Samoa</td>\n",
       "      <td>NaN</td>\n",
       "      <td>NaN</td>\n",
       "      <td>0.641026</td>\n",
       "    </tr>\n",
       "    <tr>\n",
       "      <th>25</th>\n",
       "      <td>Bolivia</td>\n",
       "      <td>336000000.0</td>\n",
       "      <td>32.0</td>\n",
       "      <td>31.47712</td>\n",
       "    </tr>\n",
       "    <tr>\n",
       "      <th>165</th>\n",
       "      <td>South Korea</td>\n",
       "      <td>11007000000.0</td>\n",
       "      <td>221.0</td>\n",
       "      <td>2.279353</td>\n",
       "    </tr>\n",
       "  </tbody>\n",
       "</table>\n",
       "</div>"
      ],
      "text/plain": [
       "            Country  Energy Supply Energy Supply per Capita % Renewable\n",
       "4    American Samoa            NaN                      NaN    0.641026\n",
       "25          Bolivia    336000000.0                     32.0    31.47712\n",
       "165     South Korea  11007000000.0                    221.0    2.279353"
      ]
     },
     "execution_count": 3,
     "metadata": {},
     "output_type": "execute_result"
    }
   ],
   "source": [
    "Energy.loc[Energy['Country'].isin(['American Samoa', 'South Korea', 'Bolivia'])]"
   ]
  },
  {
   "cell_type": "code",
   "execution_count": 4,
   "id": "4d697ccc",
   "metadata": {},
   "outputs": [],
   "source": [
    "GPD = pd.read_csv(r'D:\\projects\\thirdCourse\\Python\\lab1\\Lab1_Dataset\\gpd.csv', skiprows = 4)\n",
    "GPD.rename(columns={'Country Name':'Country'}, inplace=True)\n",
    "\n",
    "GPD.loc[:, 'Country'] = GPD.loc[:, 'Country'].replace({ \n",
    "    \"Korea, Rep.\": \"South Korea\",\n",
    "    \"Iran, Islamic Rep.\": \"Iran\",\n",
    "    \"Hong Kong SAR, China\": \"Hong Kong\"\n",
    "})"
   ]
  },
  {
   "cell_type": "code",
   "execution_count": 5,
   "id": "a7e263f6",
   "metadata": {},
   "outputs": [
    {
     "data": {
      "text/html": [
       "<div>\n",
       "<style scoped>\n",
       "    .dataframe tbody tr th:only-of-type {\n",
       "        vertical-align: middle;\n",
       "    }\n",
       "\n",
       "    .dataframe tbody tr th {\n",
       "        vertical-align: top;\n",
       "    }\n",
       "\n",
       "    .dataframe thead th {\n",
       "        text-align: right;\n",
       "    }\n",
       "</style>\n",
       "<table border=\"1\" class=\"dataframe\">\n",
       "  <thead>\n",
       "    <tr style=\"text-align: right;\">\n",
       "      <th></th>\n",
       "      <th>Country</th>\n",
       "      <th>Country Code</th>\n",
       "      <th>Indicator Name</th>\n",
       "      <th>Indicator Code</th>\n",
       "      <th>1960</th>\n",
       "      <th>1961</th>\n",
       "      <th>1962</th>\n",
       "      <th>1963</th>\n",
       "      <th>1964</th>\n",
       "      <th>1965</th>\n",
       "      <th>...</th>\n",
       "      <th>2006</th>\n",
       "      <th>2007</th>\n",
       "      <th>2008</th>\n",
       "      <th>2009</th>\n",
       "      <th>2010</th>\n",
       "      <th>2011</th>\n",
       "      <th>2012</th>\n",
       "      <th>2013</th>\n",
       "      <th>2014</th>\n",
       "      <th>2015</th>\n",
       "    </tr>\n",
       "  </thead>\n",
       "  <tbody>\n",
       "    <tr>\n",
       "      <th>0</th>\n",
       "      <td>Aruba</td>\n",
       "      <td>ABW</td>\n",
       "      <td>GDP at market prices (constant 2010 US$)</td>\n",
       "      <td>NY.GDP.MKTP.KD</td>\n",
       "      <td>NaN</td>\n",
       "      <td>NaN</td>\n",
       "      <td>NaN</td>\n",
       "      <td>NaN</td>\n",
       "      <td>NaN</td>\n",
       "      <td>NaN</td>\n",
       "      <td>...</td>\n",
       "      <td>NaN</td>\n",
       "      <td>NaN</td>\n",
       "      <td>NaN</td>\n",
       "      <td>NaN</td>\n",
       "      <td>2.467704e+09</td>\n",
       "      <td>NaN</td>\n",
       "      <td>NaN</td>\n",
       "      <td>NaN</td>\n",
       "      <td>NaN</td>\n",
       "      <td>NaN</td>\n",
       "    </tr>\n",
       "  </tbody>\n",
       "</table>\n",
       "<p>1 rows × 60 columns</p>\n",
       "</div>"
      ],
      "text/plain": [
       "  Country Country Code                            Indicator Name  \\\n",
       "0   Aruba          ABW  GDP at market prices (constant 2010 US$)   \n",
       "\n",
       "   Indicator Code  1960  1961  1962  1963  1964  1965  ...  2006  2007  2008  \\\n",
       "0  NY.GDP.MKTP.KD   NaN   NaN   NaN   NaN   NaN   NaN  ...   NaN   NaN   NaN   \n",
       "\n",
       "   2009          2010  2011  2012  2013  2014  2015  \n",
       "0   NaN  2.467704e+09   NaN   NaN   NaN   NaN   NaN  \n",
       "\n",
       "[1 rows x 60 columns]"
      ]
     },
     "execution_count": 5,
     "metadata": {},
     "output_type": "execute_result"
    }
   ],
   "source": [
    "GPD.head(1)"
   ]
  },
  {
   "cell_type": "code",
   "execution_count": 6,
   "id": "ab5ab172",
   "metadata": {},
   "outputs": [],
   "source": [
    "Scimagojr = pd.read_excel(r'D:\\projects\\thirdCourse\\Python\\lab1\\Lab1_Dataset\\scimagojr.xlsx')"
   ]
  },
  {
   "cell_type": "code",
   "execution_count": 7,
   "id": "6ef7046b",
   "metadata": {},
   "outputs": [
    {
     "data": {
      "text/html": [
       "<div>\n",
       "<style scoped>\n",
       "    .dataframe tbody tr th:only-of-type {\n",
       "        vertical-align: middle;\n",
       "    }\n",
       "\n",
       "    .dataframe tbody tr th {\n",
       "        vertical-align: top;\n",
       "    }\n",
       "\n",
       "    .dataframe thead th {\n",
       "        text-align: right;\n",
       "    }\n",
       "</style>\n",
       "<table border=\"1\" class=\"dataframe\">\n",
       "  <thead>\n",
       "    <tr style=\"text-align: right;\">\n",
       "      <th></th>\n",
       "      <th>Rank</th>\n",
       "      <th>Country</th>\n",
       "      <th>Documents</th>\n",
       "      <th>Citable documents</th>\n",
       "      <th>Citations</th>\n",
       "      <th>Self-citations</th>\n",
       "      <th>Citations per document</th>\n",
       "      <th>H index</th>\n",
       "    </tr>\n",
       "  </thead>\n",
       "  <tbody>\n",
       "    <tr>\n",
       "      <th>0</th>\n",
       "      <td>1</td>\n",
       "      <td>China</td>\n",
       "      <td>127050</td>\n",
       "      <td>126767</td>\n",
       "      <td>597237</td>\n",
       "      <td>411683</td>\n",
       "      <td>4.70</td>\n",
       "      <td>138</td>\n",
       "    </tr>\n",
       "    <tr>\n",
       "      <th>1</th>\n",
       "      <td>2</td>\n",
       "      <td>United States</td>\n",
       "      <td>96661</td>\n",
       "      <td>94747</td>\n",
       "      <td>792274</td>\n",
       "      <td>265436</td>\n",
       "      <td>8.20</td>\n",
       "      <td>230</td>\n",
       "    </tr>\n",
       "    <tr>\n",
       "      <th>2</th>\n",
       "      <td>3</td>\n",
       "      <td>Japan</td>\n",
       "      <td>30504</td>\n",
       "      <td>30287</td>\n",
       "      <td>223024</td>\n",
       "      <td>61554</td>\n",
       "      <td>7.31</td>\n",
       "      <td>134</td>\n",
       "    </tr>\n",
       "    <tr>\n",
       "      <th>3</th>\n",
       "      <td>4</td>\n",
       "      <td>United Kingdom</td>\n",
       "      <td>20944</td>\n",
       "      <td>20357</td>\n",
       "      <td>206091</td>\n",
       "      <td>37874</td>\n",
       "      <td>9.84</td>\n",
       "      <td>139</td>\n",
       "    </tr>\n",
       "    <tr>\n",
       "      <th>4</th>\n",
       "      <td>5</td>\n",
       "      <td>Russian Federation</td>\n",
       "      <td>18534</td>\n",
       "      <td>18301</td>\n",
       "      <td>34266</td>\n",
       "      <td>12422</td>\n",
       "      <td>1.85</td>\n",
       "      <td>57</td>\n",
       "    </tr>\n",
       "    <tr>\n",
       "      <th>...</th>\n",
       "      <td>...</td>\n",
       "      <td>...</td>\n",
       "      <td>...</td>\n",
       "      <td>...</td>\n",
       "      <td>...</td>\n",
       "      <td>...</td>\n",
       "      <td>...</td>\n",
       "      <td>...</td>\n",
       "    </tr>\n",
       "    <tr>\n",
       "      <th>186</th>\n",
       "      <td>187</td>\n",
       "      <td>Guyana</td>\n",
       "      <td>1</td>\n",
       "      <td>1</td>\n",
       "      <td>0</td>\n",
       "      <td>0</td>\n",
       "      <td>0.00</td>\n",
       "      <td>0</td>\n",
       "    </tr>\n",
       "    <tr>\n",
       "      <th>187</th>\n",
       "      <td>188</td>\n",
       "      <td>Christmas Island</td>\n",
       "      <td>1</td>\n",
       "      <td>1</td>\n",
       "      <td>0</td>\n",
       "      <td>0</td>\n",
       "      <td>0.00</td>\n",
       "      <td>0</td>\n",
       "    </tr>\n",
       "    <tr>\n",
       "      <th>188</th>\n",
       "      <td>189</td>\n",
       "      <td>Reunion</td>\n",
       "      <td>1</td>\n",
       "      <td>1</td>\n",
       "      <td>2</td>\n",
       "      <td>1</td>\n",
       "      <td>2.00</td>\n",
       "      <td>1</td>\n",
       "    </tr>\n",
       "    <tr>\n",
       "      <th>189</th>\n",
       "      <td>190</td>\n",
       "      <td>Saint Lucia</td>\n",
       "      <td>1</td>\n",
       "      <td>1</td>\n",
       "      <td>0</td>\n",
       "      <td>0</td>\n",
       "      <td>0.00</td>\n",
       "      <td>0</td>\n",
       "    </tr>\n",
       "    <tr>\n",
       "      <th>190</th>\n",
       "      <td>191</td>\n",
       "      <td>Mauritania</td>\n",
       "      <td>1</td>\n",
       "      <td>1</td>\n",
       "      <td>1</td>\n",
       "      <td>0</td>\n",
       "      <td>1.00</td>\n",
       "      <td>1</td>\n",
       "    </tr>\n",
       "  </tbody>\n",
       "</table>\n",
       "<p>191 rows × 8 columns</p>\n",
       "</div>"
      ],
      "text/plain": [
       "     Rank             Country  Documents  Citable documents  Citations  \\\n",
       "0       1               China     127050             126767     597237   \n",
       "1       2       United States      96661              94747     792274   \n",
       "2       3               Japan      30504              30287     223024   \n",
       "3       4      United Kingdom      20944              20357     206091   \n",
       "4       5  Russian Federation      18534              18301      34266   \n",
       "..    ...                 ...        ...                ...        ...   \n",
       "186   187              Guyana          1                  1          0   \n",
       "187   188    Christmas Island          1                  1          0   \n",
       "188   189             Reunion          1                  1          2   \n",
       "189   190         Saint Lucia          1                  1          0   \n",
       "190   191          Mauritania          1                  1          1   \n",
       "\n",
       "     Self-citations  Citations per document  H index  \n",
       "0            411683                    4.70      138  \n",
       "1            265436                    8.20      230  \n",
       "2             61554                    7.31      134  \n",
       "3             37874                    9.84      139  \n",
       "4             12422                    1.85       57  \n",
       "..              ...                     ...      ...  \n",
       "186               0                    0.00        0  \n",
       "187               0                    0.00        0  \n",
       "188               1                    2.00        1  \n",
       "189               0                    0.00        0  \n",
       "190               0                    1.00        1  \n",
       "\n",
       "[191 rows x 8 columns]"
      ]
     },
     "execution_count": 7,
     "metadata": {},
     "output_type": "execute_result"
    }
   ],
   "source": [
    "Scimagojr"
   ]
  },
  {
   "cell_type": "code",
   "execution_count": 8,
   "id": "b520dac1",
   "metadata": {},
   "outputs": [],
   "source": [
    "Result = Scimagojr.iloc[:15].merge(Energy, on='Country').merge(GPD.loc[:, '2006':].assign(Country = GPD.loc[:, 'Country']), on='Country')"
   ]
  },
  {
   "cell_type": "code",
   "execution_count": 9,
   "id": "10ecc8cf",
   "metadata": {},
   "outputs": [],
   "source": [
    "Result = Result.set_index('Country')"
   ]
  },
  {
   "cell_type": "code",
   "execution_count": 10,
   "id": "04ab726e",
   "metadata": {},
   "outputs": [
    {
     "data": {
      "text/html": [
       "<div>\n",
       "<style scoped>\n",
       "    .dataframe tbody tr th:only-of-type {\n",
       "        vertical-align: middle;\n",
       "    }\n",
       "\n",
       "    .dataframe tbody tr th {\n",
       "        vertical-align: top;\n",
       "    }\n",
       "\n",
       "    .dataframe thead th {\n",
       "        text-align: right;\n",
       "    }\n",
       "</style>\n",
       "<table border=\"1\" class=\"dataframe\">\n",
       "  <thead>\n",
       "    <tr style=\"text-align: right;\">\n",
       "      <th></th>\n",
       "      <th>Rank</th>\n",
       "      <th>Documents</th>\n",
       "      <th>Citable documents</th>\n",
       "      <th>Citations</th>\n",
       "      <th>Self-citations</th>\n",
       "      <th>Citations per document</th>\n",
       "      <th>H index</th>\n",
       "      <th>Energy Supply</th>\n",
       "      <th>Energy Supply per Capita</th>\n",
       "      <th>% Renewable</th>\n",
       "      <th>2006</th>\n",
       "      <th>2007</th>\n",
       "      <th>2008</th>\n",
       "      <th>2009</th>\n",
       "      <th>2010</th>\n",
       "      <th>2011</th>\n",
       "      <th>2012</th>\n",
       "      <th>2013</th>\n",
       "      <th>2014</th>\n",
       "      <th>2015</th>\n",
       "    </tr>\n",
       "    <tr>\n",
       "      <th>Country</th>\n",
       "      <th></th>\n",
       "      <th></th>\n",
       "      <th></th>\n",
       "      <th></th>\n",
       "      <th></th>\n",
       "      <th></th>\n",
       "      <th></th>\n",
       "      <th></th>\n",
       "      <th></th>\n",
       "      <th></th>\n",
       "      <th></th>\n",
       "      <th></th>\n",
       "      <th></th>\n",
       "      <th></th>\n",
       "      <th></th>\n",
       "      <th></th>\n",
       "      <th></th>\n",
       "      <th></th>\n",
       "      <th></th>\n",
       "      <th></th>\n",
       "    </tr>\n",
       "  </thead>\n",
       "  <tbody>\n",
       "    <tr>\n",
       "      <th>China</th>\n",
       "      <td>1</td>\n",
       "      <td>127050</td>\n",
       "      <td>126767</td>\n",
       "      <td>597237</td>\n",
       "      <td>411683</td>\n",
       "      <td>4.70</td>\n",
       "      <td>138</td>\n",
       "      <td>127191000000.0</td>\n",
       "      <td>93.0</td>\n",
       "      <td>19.75491</td>\n",
       "      <td>3.992331e+12</td>\n",
       "      <td>4.559041e+12</td>\n",
       "      <td>4.997775e+12</td>\n",
       "      <td>5.459247e+12</td>\n",
       "      <td>6.039659e+12</td>\n",
       "      <td>6.612490e+12</td>\n",
       "      <td>7.124978e+12</td>\n",
       "      <td>7.672448e+12</td>\n",
       "      <td>8.230121e+12</td>\n",
       "      <td>8.797999e+12</td>\n",
       "    </tr>\n",
       "    <tr>\n",
       "      <th>United States</th>\n",
       "      <td>2</td>\n",
       "      <td>96661</td>\n",
       "      <td>94747</td>\n",
       "      <td>792274</td>\n",
       "      <td>265436</td>\n",
       "      <td>8.20</td>\n",
       "      <td>230</td>\n",
       "      <td>90838000000.0</td>\n",
       "      <td>286.0</td>\n",
       "      <td>11.57098</td>\n",
       "      <td>1.479230e+13</td>\n",
       "      <td>1.505540e+13</td>\n",
       "      <td>1.501149e+13</td>\n",
       "      <td>1.459484e+13</td>\n",
       "      <td>1.496437e+13</td>\n",
       "      <td>1.520402e+13</td>\n",
       "      <td>1.554216e+13</td>\n",
       "      <td>1.577367e+13</td>\n",
       "      <td>1.615662e+13</td>\n",
       "      <td>1.654857e+13</td>\n",
       "    </tr>\n",
       "    <tr>\n",
       "      <th>Japan</th>\n",
       "      <td>3</td>\n",
       "      <td>30504</td>\n",
       "      <td>30287</td>\n",
       "      <td>223024</td>\n",
       "      <td>61554</td>\n",
       "      <td>7.31</td>\n",
       "      <td>134</td>\n",
       "      <td>18984000000.0</td>\n",
       "      <td>149.0</td>\n",
       "      <td>10.23282</td>\n",
       "      <td>5.496542e+12</td>\n",
       "      <td>5.617036e+12</td>\n",
       "      <td>5.558527e+12</td>\n",
       "      <td>5.251308e+12</td>\n",
       "      <td>5.498718e+12</td>\n",
       "      <td>5.473738e+12</td>\n",
       "      <td>5.569102e+12</td>\n",
       "      <td>5.644659e+12</td>\n",
       "      <td>5.642884e+12</td>\n",
       "      <td>5.669563e+12</td>\n",
       "    </tr>\n",
       "  </tbody>\n",
       "</table>\n",
       "</div>"
      ],
      "text/plain": [
       "               Rank  Documents  Citable documents  Citations  Self-citations  \\\n",
       "Country                                                                        \n",
       "China             1     127050             126767     597237          411683   \n",
       "United States     2      96661              94747     792274          265436   \n",
       "Japan             3      30504              30287     223024           61554   \n",
       "\n",
       "               Citations per document  H index   Energy Supply  \\\n",
       "Country                                                          \n",
       "China                            4.70      138  127191000000.0   \n",
       "United States                    8.20      230   90838000000.0   \n",
       "Japan                            7.31      134   18984000000.0   \n",
       "\n",
       "              Energy Supply per Capita % Renewable          2006  \\\n",
       "Country                                                            \n",
       "China                             93.0    19.75491  3.992331e+12   \n",
       "United States                    286.0    11.57098  1.479230e+13   \n",
       "Japan                            149.0    10.23282  5.496542e+12   \n",
       "\n",
       "                       2007          2008          2009          2010  \\\n",
       "Country                                                                 \n",
       "China          4.559041e+12  4.997775e+12  5.459247e+12  6.039659e+12   \n",
       "United States  1.505540e+13  1.501149e+13  1.459484e+13  1.496437e+13   \n",
       "Japan          5.617036e+12  5.558527e+12  5.251308e+12  5.498718e+12   \n",
       "\n",
       "                       2011          2012          2013          2014  \\\n",
       "Country                                                                 \n",
       "China          6.612490e+12  7.124978e+12  7.672448e+12  8.230121e+12   \n",
       "United States  1.520402e+13  1.554216e+13  1.577367e+13  1.615662e+13   \n",
       "Japan          5.473738e+12  5.569102e+12  5.644659e+12  5.642884e+12   \n",
       "\n",
       "                       2015  \n",
       "Country                      \n",
       "China          8.797999e+12  \n",
       "United States  1.654857e+13  \n",
       "Japan          5.669563e+12  "
      ]
     },
     "execution_count": 10,
     "metadata": {},
     "output_type": "execute_result"
    }
   ],
   "source": [
    "Result.head(3)"
   ]
  },
  {
   "cell_type": "code",
   "execution_count": 11,
   "id": "e4394430",
   "metadata": {},
   "outputs": [
    {
     "data": {
      "text/plain": [
       "(15, 20)"
      ]
     },
     "execution_count": 11,
     "metadata": {},
     "output_type": "execute_result"
    }
   ],
   "source": [
    "Result.shape"
   ]
  },
  {
   "cell_type": "code",
   "execution_count": 12,
   "id": "e17a8d52",
   "metadata": {},
   "outputs": [],
   "source": [
    "def task_eight():\n",
    "    avgGDP = Result.loc[:, '2006':].mean(axis=1)\n",
    "    avgGDP.sort_values(ascending=False, inplace=True)\n",
    "    return avgGDP"
   ]
  },
  {
   "cell_type": "code",
   "execution_count": 13,
   "id": "4c59a01e",
   "metadata": {},
   "outputs": [
    {
     "data": {
      "text/plain": [
       "Country\n",
       "United States         1.536434e+13\n",
       "China                 6.348609e+12\n",
       "Japan                 5.542208e+12\n",
       "Germany               3.493025e+12\n",
       "France                2.681725e+12\n",
       "United Kingdom        2.487907e+12\n",
       "Brazil                2.189794e+12\n",
       "Italy                 2.120175e+12\n",
       "India                 1.769297e+12\n",
       "Canada                1.660647e+12\n",
       "Russian Federation    1.565459e+12\n",
       "Spain                 1.418078e+12\n",
       "Australia             1.164043e+12\n",
       "South Korea           1.106715e+12\n",
       "Iran                  4.441558e+11\n",
       "dtype: float64"
      ]
     },
     "execution_count": 13,
     "metadata": {},
     "output_type": "execute_result"
    }
   ],
   "source": [
    "task_eight()"
   ]
  },
  {
   "cell_type": "code",
   "execution_count": 14,
   "id": "71fbde4c",
   "metadata": {},
   "outputs": [],
   "source": [
    "def task_nine():\n",
    "    avgGDP = task_eight()\n",
    "    nine_result = (avgGDP.index[4], (Result.loc[avgGDP.index[4], '2015'] - Result.loc[avgGDP.index[4], '2006']))\n",
    "    return nine_result"
   ]
  },
  {
   "cell_type": "code",
   "execution_count": 15,
   "id": "a8b6d1aa",
   "metadata": {},
   "outputs": [
    {
     "data": {
      "text/plain": [
       "('France', 153345695364.24023)"
      ]
     },
     "execution_count": 15,
     "metadata": {},
     "output_type": "execute_result"
    }
   ],
   "source": [
    "task_nine()"
   ]
  },
  {
   "cell_type": "code",
   "execution_count": 16,
   "id": "85649afe",
   "metadata": {},
   "outputs": [],
   "source": [
    "def task_ten():\n",
    "    Result['% Renewable'] = pd.to_numeric(Result['% Renewable'])\n",
    "    ten_result = (Result['% Renewable'].idxmax(), Result.loc[Result['% Renewable'].idxmax(), '% Renewable'])\n",
    "    return ten_result"
   ]
  },
  {
   "cell_type": "code",
   "execution_count": 17,
   "id": "776e9525",
   "metadata": {},
   "outputs": [
    {
     "data": {
      "text/plain": [
       "('Brazil', 69.64803)"
      ]
     },
     "execution_count": 17,
     "metadata": {},
     "output_type": "execute_result"
    }
   ],
   "source": [
    "task_ten()"
   ]
  },
  {
   "cell_type": "code",
   "execution_count": 18,
   "id": "b48004cc",
   "metadata": {},
   "outputs": [],
   "source": [
    "def task_eleven():\n",
    "    Result['Population'] = Result.apply(lambda row: row['Energy Supply'] / row['Energy Supply per Capita'], axis=1)\n",
    "    ResultLargestPopulation = Result['Population'].nlargest(6)\n",
    "    eleven_result = (ResultLargestPopulation.index[5], ResultLargestPopulation.loc[ResultLargestPopulation.index[5]])\n",
    "    return eleven_result"
   ]
  },
  {
   "cell_type": "code",
   "execution_count": 19,
   "id": "c8fb5764",
   "metadata": {},
   "outputs": [
    {
     "data": {
      "text/plain": [
       "('Japan', 127409395.97315437)"
      ]
     },
     "execution_count": 19,
     "metadata": {},
     "output_type": "execute_result"
    }
   ],
   "source": [
    "task_eleven()"
   ]
  },
  {
   "cell_type": "code",
   "execution_count": 20,
   "id": "b1dd7197",
   "metadata": {},
   "outputs": [],
   "source": [
    "def task_twelve():\n",
    "    Result['Citable documents per capita'] = Result.apply(lambda row: row['Citable documents'] / row['Population'], axis=1)\n",
    "    twelve_result = Result['Citable documents per capita'].astype('float64').corr(Result['Energy Supply per Capita'].astype('float64'))\n",
    "    return twelve_result"
   ]
  },
  {
   "cell_type": "code",
   "execution_count": 21,
   "id": "77c770ef",
   "metadata": {},
   "outputs": [
    {
     "data": {
      "text/plain": [
       "0.7940010435442946"
      ]
     },
     "execution_count": 21,
     "metadata": {},
     "output_type": "execute_result"
    }
   ],
   "source": [
    "task_twelve()"
   ]
  },
  {
   "cell_type": "code",
   "execution_count": 22,
   "id": "b23f1864",
   "metadata": {},
   "outputs": [],
   "source": [
    "def task_thirteen():\n",
    "    def categorise(row):  \n",
    "        if row['% Renewable'] >= Result['% Renewable'].median():\n",
    "            return 1\n",
    "        elif row['% Renewable'] < Result['% Renewable'].median():\n",
    "            return 0\n",
    "        return 0\n",
    "\n",
    "    thirteen_result = Result.apply(lambda row: categorise(row), axis=1)\n",
    "    return thirteen_result"
   ]
  },
  {
   "cell_type": "code",
   "execution_count": 23,
   "id": "51589f25",
   "metadata": {},
   "outputs": [
    {
     "data": {
      "text/plain": [
       "Country\n",
       "China                 1\n",
       "United States         0\n",
       "Japan                 0\n",
       "United Kingdom        0\n",
       "Russian Federation    1\n",
       "Canada                1\n",
       "Germany               1\n",
       "India                 0\n",
       "France                1\n",
       "South Korea           0\n",
       "Italy                 1\n",
       "Spain                 1\n",
       "Iran                  0\n",
       "Australia             0\n",
       "Brazil                1\n",
       "dtype: int64"
      ]
     },
     "execution_count": 23,
     "metadata": {},
     "output_type": "execute_result"
    }
   ],
   "source": [
    "task_thirteen()"
   ]
  },
  {
   "cell_type": "code",
   "execution_count": 24,
   "id": "b3716638",
   "metadata": {},
   "outputs": [],
   "source": [
    "from collections import defaultdict\n",
    "from operator import index\n",
    "\n",
    "ContinentDict = {'China':'Asia',\n",
    "                     'United States':'North America',\n",
    "                     'Japan':'Asia',\n",
    "                     'United Kingdom':'Europe',\n",
    "                     'Russian Federation':'Europe',\n",
    "                     'Canada':'North America',\n",
    "                     'Germany':'Europe',\n",
    "                     'India':'Asia',\n",
    "                     'France':'Europe',\n",
    "                     'South Korea':'Asia',\n",
    "                     'Italy':'Europe',\n",
    "                     'Spain':'Europe',\n",
    "                     'Iran':'Asia',\n",
    "                     'Australia':'Australia',\n",
    "                     'Brazil':'South America'}\n",
    "\n",
    "ContinentDictReversed = defaultdict(list)\n",
    "for key, value in ContinentDict.items():\n",
    "    ContinentDictReversed[value].append(key)\n",
    "\n",
    "forteen_origin = pd.DataFrame.from_dict(ContinentDictReversed, orient='index')\n",
    "\n",
    "def task_forteen():\n",
    "\n",
    "    def vibFunc(row):\n",
    "        for i in forteen_origin.columns:\n",
    "            if row[i] == None:\n",
    "                return i\n",
    "\n",
    "        return i + 1\n",
    "\n",
    "    def sumFunc(row):\n",
    "        sumPopul = 0\n",
    "        for i in forteen_origin.columns:\n",
    "            if row[i] != None:\n",
    "                sumPopul += Result.loc[row[i], 'Population']\n",
    "\n",
    "        return sumPopul\n",
    "    \n",
    "    def meanFunc(row):\n",
    "        sumPopul = 0\n",
    "        counter = 0\n",
    "        for i in forteen_origin.columns:\n",
    "            if row[i] != None:\n",
    "                sumPopul += Result.loc[row[i], 'Population']\n",
    "                counter += 1\n",
    "\n",
    "        return sumPopul / counter\n",
    "\n",
    "    def stdFunc(row):\n",
    "        temp = []\n",
    "        for i in forteen_origin.columns:\n",
    "            if row[i] != None:\n",
    "                temp.append(Result.loc[row[i], 'Population'])\n",
    "\n",
    "        return np.std(temp)\n",
    "\n",
    "    \n",
    "    forteen_result = pd.DataFrame(columns=['size', 'sum', 'mean', 'std'], index = forteen_origin.index)\n",
    "    forteen_result['size'] = forteen_origin.apply(lambda row: vibFunc(row), axis=1)\n",
    "    forteen_result['sum'] = forteen_origin.apply(lambda row: sumFunc(row), axis=1)\n",
    "    forteen_result['mean'] = forteen_origin.apply(lambda row: meanFunc(row), axis=1)\n",
    "    forteen_result['std'] = forteen_origin.apply(lambda row: stdFunc(row), axis=1).apply(pd.to_numeric, errors='coerce')\n",
    "    forteen_result.index.name = 'Continent'\n",
    "    forteen_result.sort_index(key=lambda x: x.str.lower(), inplace=True)\n",
    "    return forteen_result"
   ]
  },
  {
   "cell_type": "code",
   "execution_count": 25,
   "id": "2e8914a0",
   "metadata": {},
   "outputs": [
    {
     "data": {
      "text/html": [
       "<div>\n",
       "<style scoped>\n",
       "    .dataframe tbody tr th:only-of-type {\n",
       "        vertical-align: middle;\n",
       "    }\n",
       "\n",
       "    .dataframe tbody tr th {\n",
       "        vertical-align: top;\n",
       "    }\n",
       "\n",
       "    .dataframe thead th {\n",
       "        text-align: right;\n",
       "    }\n",
       "</style>\n",
       "<table border=\"1\" class=\"dataframe\">\n",
       "  <thead>\n",
       "    <tr style=\"text-align: right;\">\n",
       "      <th></th>\n",
       "      <th>size</th>\n",
       "      <th>sum</th>\n",
       "      <th>mean</th>\n",
       "      <th>std</th>\n",
       "    </tr>\n",
       "    <tr>\n",
       "      <th>Continent</th>\n",
       "      <th></th>\n",
       "      <th></th>\n",
       "      <th></th>\n",
       "      <th></th>\n",
       "    </tr>\n",
       "  </thead>\n",
       "  <tbody>\n",
       "    <tr>\n",
       "      <th>Asia</th>\n",
       "      <td>5</td>\n",
       "      <td>2.898666e+09</td>\n",
       "      <td>5.797333e+08</td>\n",
       "      <td>6.074036e+08</td>\n",
       "    </tr>\n",
       "    <tr>\n",
       "      <th>Australia</th>\n",
       "      <td>1</td>\n",
       "      <td>2.331602e+07</td>\n",
       "      <td>2.331602e+07</td>\n",
       "      <td>0.000000e+00</td>\n",
       "    </tr>\n",
       "    <tr>\n",
       "      <th>Europe</th>\n",
       "      <td>6</td>\n",
       "      <td>4.579297e+08</td>\n",
       "      <td>7.632161e+07</td>\n",
       "      <td>3.162885e+07</td>\n",
       "    </tr>\n",
       "    <tr>\n",
       "      <th>North America</th>\n",
       "      <td>2</td>\n",
       "      <td>3.528552e+08</td>\n",
       "      <td>1.764276e+08</td>\n",
       "      <td>1.411878e+08</td>\n",
       "    </tr>\n",
       "    <tr>\n",
       "      <th>South America</th>\n",
       "      <td>1</td>\n",
       "      <td>2.059153e+08</td>\n",
       "      <td>2.059153e+08</td>\n",
       "      <td>0.000000e+00</td>\n",
       "    </tr>\n",
       "  </tbody>\n",
       "</table>\n",
       "</div>"
      ],
      "text/plain": [
       "               size           sum          mean           std\n",
       "Continent                                                    \n",
       "Asia              5  2.898666e+09  5.797333e+08  6.074036e+08\n",
       "Australia         1  2.331602e+07  2.331602e+07  0.000000e+00\n",
       "Europe            6  4.579297e+08  7.632161e+07  3.162885e+07\n",
       "North America     2  3.528552e+08  1.764276e+08  1.411878e+08\n",
       "South America     1  2.059153e+08  2.059153e+08  0.000000e+00"
      ]
     },
     "execution_count": 25,
     "metadata": {},
     "output_type": "execute_result"
    }
   ],
   "source": [
    "task_forteen()"
   ]
  },
  {
   "cell_type": "code",
   "execution_count": 26,
   "id": "f579f9e0",
   "metadata": {},
   "outputs": [
    {
     "data": {
      "text/html": [
       "<div>\n",
       "<style scoped>\n",
       "    .dataframe tbody tr th:only-of-type {\n",
       "        vertical-align: middle;\n",
       "    }\n",
       "\n",
       "    .dataframe tbody tr th {\n",
       "        vertical-align: top;\n",
       "    }\n",
       "\n",
       "    .dataframe thead th {\n",
       "        text-align: right;\n",
       "    }\n",
       "</style>\n",
       "<table border=\"1\" class=\"dataframe\">\n",
       "  <thead>\n",
       "    <tr style=\"text-align: right;\">\n",
       "      <th></th>\n",
       "      <th>% Renewable</th>\n",
       "      <th>Rank</th>\n",
       "      <th>2015</th>\n",
       "      <th>Continent</th>\n",
       "    </tr>\n",
       "    <tr>\n",
       "      <th>Country</th>\n",
       "      <th></th>\n",
       "      <th></th>\n",
       "      <th></th>\n",
       "      <th></th>\n",
       "    </tr>\n",
       "  </thead>\n",
       "  <tbody>\n",
       "    <tr>\n",
       "      <th>China</th>\n",
       "      <td>19.754910</td>\n",
       "      <td>1</td>\n",
       "      <td>8.797999e+12</td>\n",
       "      <td>Asia</td>\n",
       "    </tr>\n",
       "    <tr>\n",
       "      <th>United States</th>\n",
       "      <td>11.570980</td>\n",
       "      <td>2</td>\n",
       "      <td>1.654857e+13</td>\n",
       "      <td>North America</td>\n",
       "    </tr>\n",
       "    <tr>\n",
       "      <th>Japan</th>\n",
       "      <td>10.232820</td>\n",
       "      <td>3</td>\n",
       "      <td>5.669563e+12</td>\n",
       "      <td>Asia</td>\n",
       "    </tr>\n",
       "    <tr>\n",
       "      <th>United Kingdom</th>\n",
       "      <td>10.600470</td>\n",
       "      <td>4</td>\n",
       "      <td>2.666333e+12</td>\n",
       "      <td>Europe</td>\n",
       "    </tr>\n",
       "    <tr>\n",
       "      <th>Russian Federation</th>\n",
       "      <td>17.288680</td>\n",
       "      <td>5</td>\n",
       "      <td>1.616149e+12</td>\n",
       "      <td>Europe</td>\n",
       "    </tr>\n",
       "    <tr>\n",
       "      <th>Canada</th>\n",
       "      <td>61.945430</td>\n",
       "      <td>6</td>\n",
       "      <td>1.792609e+12</td>\n",
       "      <td>North America</td>\n",
       "    </tr>\n",
       "    <tr>\n",
       "      <th>Germany</th>\n",
       "      <td>17.901530</td>\n",
       "      <td>7</td>\n",
       "      <td>3.685556e+12</td>\n",
       "      <td>Europe</td>\n",
       "    </tr>\n",
       "    <tr>\n",
       "      <th>India</th>\n",
       "      <td>14.969080</td>\n",
       "      <td>8</td>\n",
       "      <td>2.367206e+12</td>\n",
       "      <td>Asia</td>\n",
       "    </tr>\n",
       "    <tr>\n",
       "      <th>France</th>\n",
       "      <td>17.020280</td>\n",
       "      <td>9</td>\n",
       "      <td>2.761185e+12</td>\n",
       "      <td>Europe</td>\n",
       "    </tr>\n",
       "    <tr>\n",
       "      <th>South Korea</th>\n",
       "      <td>2.279353</td>\n",
       "      <td>10</td>\n",
       "      <td>1.266580e+12</td>\n",
       "      <td>Asia</td>\n",
       "    </tr>\n",
       "    <tr>\n",
       "      <th>Italy</th>\n",
       "      <td>33.667230</td>\n",
       "      <td>11</td>\n",
       "      <td>2.049316e+12</td>\n",
       "      <td>Europe</td>\n",
       "    </tr>\n",
       "    <tr>\n",
       "      <th>Spain</th>\n",
       "      <td>37.968590</td>\n",
       "      <td>12</td>\n",
       "      <td>1.419821e+12</td>\n",
       "      <td>Europe</td>\n",
       "    </tr>\n",
       "    <tr>\n",
       "      <th>Iran</th>\n",
       "      <td>5.707721</td>\n",
       "      <td>13</td>\n",
       "      <td>0.000000e+00</td>\n",
       "      <td>Asia</td>\n",
       "    </tr>\n",
       "    <tr>\n",
       "      <th>Australia</th>\n",
       "      <td>11.810810</td>\n",
       "      <td>14</td>\n",
       "      <td>1.301251e+12</td>\n",
       "      <td>Australia</td>\n",
       "    </tr>\n",
       "    <tr>\n",
       "      <th>Brazil</th>\n",
       "      <td>69.648030</td>\n",
       "      <td>15</td>\n",
       "      <td>2.319423e+12</td>\n",
       "      <td>South America</td>\n",
       "    </tr>\n",
       "  </tbody>\n",
       "</table>\n",
       "</div>"
      ],
      "text/plain": [
       "                    % Renewable  Rank          2015      Continent\n",
       "Country                                                           \n",
       "China                 19.754910     1  8.797999e+12           Asia\n",
       "United States         11.570980     2  1.654857e+13  North America\n",
       "Japan                 10.232820     3  5.669563e+12           Asia\n",
       "United Kingdom        10.600470     4  2.666333e+12         Europe\n",
       "Russian Federation    17.288680     5  1.616149e+12         Europe\n",
       "Canada                61.945430     6  1.792609e+12  North America\n",
       "Germany               17.901530     7  3.685556e+12         Europe\n",
       "India                 14.969080     8  2.367206e+12           Asia\n",
       "France                17.020280     9  2.761185e+12         Europe\n",
       "South Korea            2.279353    10  1.266580e+12           Asia\n",
       "Italy                 33.667230    11  2.049316e+12         Europe\n",
       "Spain                 37.968590    12  1.419821e+12         Europe\n",
       "Iran                   5.707721    13  0.000000e+00           Asia\n",
       "Australia             11.810810    14  1.301251e+12      Australia\n",
       "Brazil                69.648030    15  2.319423e+12  South America"
      ]
     },
     "execution_count": 26,
     "metadata": {},
     "output_type": "execute_result"
    }
   ],
   "source": [
    "ChartDF = Result[['% Renewable', 'Rank', '2015']].copy()\n",
    "ChartDF['Continent'] = ChartDF.index.map(ContinentDict)\n",
    "ChartDF['2015'] = ChartDF['2015'].apply(pd.to_numeric, errors='coerce').replace(np.nan, 0)\n",
    "ChartDF"
   ]
  },
  {
   "cell_type": "code",
   "execution_count": 27,
   "id": "51967115",
   "metadata": {},
   "outputs": [
    {
     "data": {
      "application/vnd.plotly.v1+json": {
       "config": {
        "plotlyServerURL": "https://plot.ly"
       },
       "data": [
        {
         "hovertemplate": "<b>%{hovertext}</b><br><br>Continent=Asia<br>Rank=%{x}<br>% Renewable=%{y}<br>2015=%{marker.size}<br>Country=%{text}<extra></extra>",
         "hovertext": [
          "China",
          "Japan",
          "India",
          "South Korea",
          "Iran"
         ],
         "legendgroup": "Asia",
         "marker": {
          "color": "#636efa",
          "size": [
           8797998940421.28,
           5669563143140.97,
           2367206118959.06,
           1266580410309.11,
           0
          ],
          "sizemode": "area",
          "sizeref": 6619429311.32,
          "symbol": "circle"
         },
         "mode": "markers+text",
         "name": "Asia",
         "orientation": "v",
         "showlegend": true,
         "text": [
          "China",
          "Japan",
          "India",
          "South Korea",
          "Iran"
         ],
         "type": "scatter",
         "x": [
          1,
          3,
          8,
          10,
          13
         ],
         "xaxis": "x",
         "y": [
          19.75491,
          10.23282,
          14.96908,
          2.279353,
          5.707721
         ],
         "yaxis": "y"
        },
        {
         "hovertemplate": "<b>%{hovertext}</b><br><br>Continent=North America<br>Rank=%{x}<br>% Renewable=%{y}<br>2015=%{marker.size}<br>Country=%{text}<extra></extra>",
         "hovertext": [
          "United States",
          "Canada"
         ],
         "legendgroup": "North America",
         "marker": {
          "color": "#EF553B",
          "size": [
           16548573278300,
           1792608764608.81
          ],
          "sizemode": "area",
          "sizeref": 6619429311.32,
          "symbol": "circle"
         },
         "mode": "markers+text",
         "name": "North America",
         "orientation": "v",
         "showlegend": true,
         "text": [
          "United States",
          "Canada"
         ],
         "type": "scatter",
         "x": [
          2,
          6
         ],
         "xaxis": "x",
         "y": [
          11.57098,
          61.94543
         ],
         "yaxis": "y"
        },
        {
         "hovertemplate": "<b>%{hovertext}</b><br><br>Continent=Europe<br>Rank=%{x}<br>% Renewable=%{y}<br>2015=%{marker.size}<br>Country=%{text}<extra></extra>",
         "hovertext": [
          "United Kingdom",
          "Russian Federation",
          "Germany",
          "France",
          "Italy",
          "Spain"
         ],
         "legendgroup": "Europe",
         "marker": {
          "color": "#00cc96",
          "size": [
           2666333396477.13,
           1616148858033.77,
           3685555907284.77,
           2761185430463.58,
           2049315603576.16,
           1419821192052.98
          ],
          "sizemode": "area",
          "sizeref": 6619429311.32,
          "symbol": "circle"
         },
         "mode": "markers+text",
         "name": "Europe",
         "orientation": "v",
         "showlegend": true,
         "text": [
          "United Kingdom",
          "Russian Federation",
          "Germany",
          "France",
          "Italy",
          "Spain"
         ],
         "type": "scatter",
         "x": [
          4,
          5,
          7,
          9,
          11,
          12
         ],
         "xaxis": "x",
         "y": [
          10.60047,
          17.28868,
          17.90153,
          17.02028,
          33.66723,
          37.96859
         ],
         "yaxis": "y"
        },
        {
         "hovertemplate": "<b>%{hovertext}</b><br><br>Continent=Australia<br>Rank=%{x}<br>% Renewable=%{y}<br>2015=%{marker.size}<br>Country=%{text}<extra></extra>",
         "hovertext": [
          "Australia"
         ],
         "legendgroup": "Australia",
         "marker": {
          "color": "#ab63fa",
          "size": [
           1301251030445.66
          ],
          "sizemode": "area",
          "sizeref": 6619429311.32,
          "symbol": "circle"
         },
         "mode": "markers+text",
         "name": "Australia",
         "orientation": "v",
         "showlegend": true,
         "text": [
          "Australia"
         ],
         "type": "scatter",
         "x": [
          14
         ],
         "xaxis": "x",
         "y": [
          11.81081
         ],
         "yaxis": "y"
        },
        {
         "hovertemplate": "<b>%{hovertext}</b><br><br>Continent=South America<br>Rank=%{x}<br>% Renewable=%{y}<br>2015=%{marker.size}<br>Country=%{text}<extra></extra>",
         "hovertext": [
          "Brazil"
         ],
         "legendgroup": "South America",
         "marker": {
          "color": "#FFA15A",
          "size": [
           2319423390494.13
          ],
          "sizemode": "area",
          "sizeref": 6619429311.32,
          "symbol": "circle"
         },
         "mode": "markers+text",
         "name": "South America",
         "orientation": "v",
         "showlegend": true,
         "text": [
          "Brazil"
         ],
         "type": "scatter",
         "x": [
          15
         ],
         "xaxis": "x",
         "y": [
          69.64803
         ],
         "yaxis": "y"
        }
       ],
       "layout": {
        "legend": {
         "itemsizing": "constant",
         "title": {
          "text": "Continent"
         },
         "tracegroupgap": 0
        },
        "margin": {
         "t": 60
        },
        "template": {
         "data": {
          "bar": [
           {
            "error_x": {
             "color": "#2a3f5f"
            },
            "error_y": {
             "color": "#2a3f5f"
            },
            "marker": {
             "line": {
              "color": "#E5ECF6",
              "width": 0.5
             },
             "pattern": {
              "fillmode": "overlay",
              "size": 10,
              "solidity": 0.2
             }
            },
            "type": "bar"
           }
          ],
          "barpolar": [
           {
            "marker": {
             "line": {
              "color": "#E5ECF6",
              "width": 0.5
             },
             "pattern": {
              "fillmode": "overlay",
              "size": 10,
              "solidity": 0.2
             }
            },
            "type": "barpolar"
           }
          ],
          "carpet": [
           {
            "aaxis": {
             "endlinecolor": "#2a3f5f",
             "gridcolor": "white",
             "linecolor": "white",
             "minorgridcolor": "white",
             "startlinecolor": "#2a3f5f"
            },
            "baxis": {
             "endlinecolor": "#2a3f5f",
             "gridcolor": "white",
             "linecolor": "white",
             "minorgridcolor": "white",
             "startlinecolor": "#2a3f5f"
            },
            "type": "carpet"
           }
          ],
          "choropleth": [
           {
            "colorbar": {
             "outlinewidth": 0,
             "ticks": ""
            },
            "type": "choropleth"
           }
          ],
          "contour": [
           {
            "colorbar": {
             "outlinewidth": 0,
             "ticks": ""
            },
            "colorscale": [
             [
              0,
              "#0d0887"
             ],
             [
              0.1111111111111111,
              "#46039f"
             ],
             [
              0.2222222222222222,
              "#7201a8"
             ],
             [
              0.3333333333333333,
              "#9c179e"
             ],
             [
              0.4444444444444444,
              "#bd3786"
             ],
             [
              0.5555555555555556,
              "#d8576b"
             ],
             [
              0.6666666666666666,
              "#ed7953"
             ],
             [
              0.7777777777777778,
              "#fb9f3a"
             ],
             [
              0.8888888888888888,
              "#fdca26"
             ],
             [
              1,
              "#f0f921"
             ]
            ],
            "type": "contour"
           }
          ],
          "contourcarpet": [
           {
            "colorbar": {
             "outlinewidth": 0,
             "ticks": ""
            },
            "type": "contourcarpet"
           }
          ],
          "heatmap": [
           {
            "colorbar": {
             "outlinewidth": 0,
             "ticks": ""
            },
            "colorscale": [
             [
              0,
              "#0d0887"
             ],
             [
              0.1111111111111111,
              "#46039f"
             ],
             [
              0.2222222222222222,
              "#7201a8"
             ],
             [
              0.3333333333333333,
              "#9c179e"
             ],
             [
              0.4444444444444444,
              "#bd3786"
             ],
             [
              0.5555555555555556,
              "#d8576b"
             ],
             [
              0.6666666666666666,
              "#ed7953"
             ],
             [
              0.7777777777777778,
              "#fb9f3a"
             ],
             [
              0.8888888888888888,
              "#fdca26"
             ],
             [
              1,
              "#f0f921"
             ]
            ],
            "type": "heatmap"
           }
          ],
          "heatmapgl": [
           {
            "colorbar": {
             "outlinewidth": 0,
             "ticks": ""
            },
            "colorscale": [
             [
              0,
              "#0d0887"
             ],
             [
              0.1111111111111111,
              "#46039f"
             ],
             [
              0.2222222222222222,
              "#7201a8"
             ],
             [
              0.3333333333333333,
              "#9c179e"
             ],
             [
              0.4444444444444444,
              "#bd3786"
             ],
             [
              0.5555555555555556,
              "#d8576b"
             ],
             [
              0.6666666666666666,
              "#ed7953"
             ],
             [
              0.7777777777777778,
              "#fb9f3a"
             ],
             [
              0.8888888888888888,
              "#fdca26"
             ],
             [
              1,
              "#f0f921"
             ]
            ],
            "type": "heatmapgl"
           }
          ],
          "histogram": [
           {
            "marker": {
             "pattern": {
              "fillmode": "overlay",
              "size": 10,
              "solidity": 0.2
             }
            },
            "type": "histogram"
           }
          ],
          "histogram2d": [
           {
            "colorbar": {
             "outlinewidth": 0,
             "ticks": ""
            },
            "colorscale": [
             [
              0,
              "#0d0887"
             ],
             [
              0.1111111111111111,
              "#46039f"
             ],
             [
              0.2222222222222222,
              "#7201a8"
             ],
             [
              0.3333333333333333,
              "#9c179e"
             ],
             [
              0.4444444444444444,
              "#bd3786"
             ],
             [
              0.5555555555555556,
              "#d8576b"
             ],
             [
              0.6666666666666666,
              "#ed7953"
             ],
             [
              0.7777777777777778,
              "#fb9f3a"
             ],
             [
              0.8888888888888888,
              "#fdca26"
             ],
             [
              1,
              "#f0f921"
             ]
            ],
            "type": "histogram2d"
           }
          ],
          "histogram2dcontour": [
           {
            "colorbar": {
             "outlinewidth": 0,
             "ticks": ""
            },
            "colorscale": [
             [
              0,
              "#0d0887"
             ],
             [
              0.1111111111111111,
              "#46039f"
             ],
             [
              0.2222222222222222,
              "#7201a8"
             ],
             [
              0.3333333333333333,
              "#9c179e"
             ],
             [
              0.4444444444444444,
              "#bd3786"
             ],
             [
              0.5555555555555556,
              "#d8576b"
             ],
             [
              0.6666666666666666,
              "#ed7953"
             ],
             [
              0.7777777777777778,
              "#fb9f3a"
             ],
             [
              0.8888888888888888,
              "#fdca26"
             ],
             [
              1,
              "#f0f921"
             ]
            ],
            "type": "histogram2dcontour"
           }
          ],
          "mesh3d": [
           {
            "colorbar": {
             "outlinewidth": 0,
             "ticks": ""
            },
            "type": "mesh3d"
           }
          ],
          "parcoords": [
           {
            "line": {
             "colorbar": {
              "outlinewidth": 0,
              "ticks": ""
             }
            },
            "type": "parcoords"
           }
          ],
          "pie": [
           {
            "automargin": true,
            "type": "pie"
           }
          ],
          "scatter": [
           {
            "fillpattern": {
             "fillmode": "overlay",
             "size": 10,
             "solidity": 0.2
            },
            "type": "scatter"
           }
          ],
          "scatter3d": [
           {
            "line": {
             "colorbar": {
              "outlinewidth": 0,
              "ticks": ""
             }
            },
            "marker": {
             "colorbar": {
              "outlinewidth": 0,
              "ticks": ""
             }
            },
            "type": "scatter3d"
           }
          ],
          "scattercarpet": [
           {
            "marker": {
             "colorbar": {
              "outlinewidth": 0,
              "ticks": ""
             }
            },
            "type": "scattercarpet"
           }
          ],
          "scattergeo": [
           {
            "marker": {
             "colorbar": {
              "outlinewidth": 0,
              "ticks": ""
             }
            },
            "type": "scattergeo"
           }
          ],
          "scattergl": [
           {
            "marker": {
             "colorbar": {
              "outlinewidth": 0,
              "ticks": ""
             }
            },
            "type": "scattergl"
           }
          ],
          "scattermapbox": [
           {
            "marker": {
             "colorbar": {
              "outlinewidth": 0,
              "ticks": ""
             }
            },
            "type": "scattermapbox"
           }
          ],
          "scatterpolar": [
           {
            "marker": {
             "colorbar": {
              "outlinewidth": 0,
              "ticks": ""
             }
            },
            "type": "scatterpolar"
           }
          ],
          "scatterpolargl": [
           {
            "marker": {
             "colorbar": {
              "outlinewidth": 0,
              "ticks": ""
             }
            },
            "type": "scatterpolargl"
           }
          ],
          "scatterternary": [
           {
            "marker": {
             "colorbar": {
              "outlinewidth": 0,
              "ticks": ""
             }
            },
            "type": "scatterternary"
           }
          ],
          "surface": [
           {
            "colorbar": {
             "outlinewidth": 0,
             "ticks": ""
            },
            "colorscale": [
             [
              0,
              "#0d0887"
             ],
             [
              0.1111111111111111,
              "#46039f"
             ],
             [
              0.2222222222222222,
              "#7201a8"
             ],
             [
              0.3333333333333333,
              "#9c179e"
             ],
             [
              0.4444444444444444,
              "#bd3786"
             ],
             [
              0.5555555555555556,
              "#d8576b"
             ],
             [
              0.6666666666666666,
              "#ed7953"
             ],
             [
              0.7777777777777778,
              "#fb9f3a"
             ],
             [
              0.8888888888888888,
              "#fdca26"
             ],
             [
              1,
              "#f0f921"
             ]
            ],
            "type": "surface"
           }
          ],
          "table": [
           {
            "cells": {
             "fill": {
              "color": "#EBF0F8"
             },
             "line": {
              "color": "white"
             }
            },
            "header": {
             "fill": {
              "color": "#C8D4E3"
             },
             "line": {
              "color": "white"
             }
            },
            "type": "table"
           }
          ]
         },
         "layout": {
          "annotationdefaults": {
           "arrowcolor": "#2a3f5f",
           "arrowhead": 0,
           "arrowwidth": 1
          },
          "autotypenumbers": "strict",
          "coloraxis": {
           "colorbar": {
            "outlinewidth": 0,
            "ticks": ""
           }
          },
          "colorscale": {
           "diverging": [
            [
             0,
             "#8e0152"
            ],
            [
             0.1,
             "#c51b7d"
            ],
            [
             0.2,
             "#de77ae"
            ],
            [
             0.3,
             "#f1b6da"
            ],
            [
             0.4,
             "#fde0ef"
            ],
            [
             0.5,
             "#f7f7f7"
            ],
            [
             0.6,
             "#e6f5d0"
            ],
            [
             0.7,
             "#b8e186"
            ],
            [
             0.8,
             "#7fbc41"
            ],
            [
             0.9,
             "#4d9221"
            ],
            [
             1,
             "#276419"
            ]
           ],
           "sequential": [
            [
             0,
             "#0d0887"
            ],
            [
             0.1111111111111111,
             "#46039f"
            ],
            [
             0.2222222222222222,
             "#7201a8"
            ],
            [
             0.3333333333333333,
             "#9c179e"
            ],
            [
             0.4444444444444444,
             "#bd3786"
            ],
            [
             0.5555555555555556,
             "#d8576b"
            ],
            [
             0.6666666666666666,
             "#ed7953"
            ],
            [
             0.7777777777777778,
             "#fb9f3a"
            ],
            [
             0.8888888888888888,
             "#fdca26"
            ],
            [
             1,
             "#f0f921"
            ]
           ],
           "sequentialminus": [
            [
             0,
             "#0d0887"
            ],
            [
             0.1111111111111111,
             "#46039f"
            ],
            [
             0.2222222222222222,
             "#7201a8"
            ],
            [
             0.3333333333333333,
             "#9c179e"
            ],
            [
             0.4444444444444444,
             "#bd3786"
            ],
            [
             0.5555555555555556,
             "#d8576b"
            ],
            [
             0.6666666666666666,
             "#ed7953"
            ],
            [
             0.7777777777777778,
             "#fb9f3a"
            ],
            [
             0.8888888888888888,
             "#fdca26"
            ],
            [
             1,
             "#f0f921"
            ]
           ]
          },
          "colorway": [
           "#636efa",
           "#EF553B",
           "#00cc96",
           "#ab63fa",
           "#FFA15A",
           "#19d3f3",
           "#FF6692",
           "#B6E880",
           "#FF97FF",
           "#FECB52"
          ],
          "font": {
           "color": "#2a3f5f"
          },
          "geo": {
           "bgcolor": "white",
           "lakecolor": "white",
           "landcolor": "#E5ECF6",
           "showlakes": true,
           "showland": true,
           "subunitcolor": "white"
          },
          "hoverlabel": {
           "align": "left"
          },
          "hovermode": "closest",
          "mapbox": {
           "style": "light"
          },
          "paper_bgcolor": "white",
          "plot_bgcolor": "#E5ECF6",
          "polar": {
           "angularaxis": {
            "gridcolor": "white",
            "linecolor": "white",
            "ticks": ""
           },
           "bgcolor": "#E5ECF6",
           "radialaxis": {
            "gridcolor": "white",
            "linecolor": "white",
            "ticks": ""
           }
          },
          "scene": {
           "xaxis": {
            "backgroundcolor": "#E5ECF6",
            "gridcolor": "white",
            "gridwidth": 2,
            "linecolor": "white",
            "showbackground": true,
            "ticks": "",
            "zerolinecolor": "white"
           },
           "yaxis": {
            "backgroundcolor": "#E5ECF6",
            "gridcolor": "white",
            "gridwidth": 2,
            "linecolor": "white",
            "showbackground": true,
            "ticks": "",
            "zerolinecolor": "white"
           },
           "zaxis": {
            "backgroundcolor": "#E5ECF6",
            "gridcolor": "white",
            "gridwidth": 2,
            "linecolor": "white",
            "showbackground": true,
            "ticks": "",
            "zerolinecolor": "white"
           }
          },
          "shapedefaults": {
           "line": {
            "color": "#2a3f5f"
           }
          },
          "ternary": {
           "aaxis": {
            "gridcolor": "white",
            "linecolor": "white",
            "ticks": ""
           },
           "baxis": {
            "gridcolor": "white",
            "linecolor": "white",
            "ticks": ""
           },
           "bgcolor": "#E5ECF6",
           "caxis": {
            "gridcolor": "white",
            "linecolor": "white",
            "ticks": ""
           }
          },
          "title": {
           "x": 0.05
          },
          "xaxis": {
           "automargin": true,
           "gridcolor": "white",
           "linecolor": "white",
           "ticks": "",
           "title": {
            "standoff": 15
           },
           "zerolinecolor": "white",
           "zerolinewidth": 2
          },
          "yaxis": {
           "automargin": true,
           "gridcolor": "white",
           "linecolor": "white",
           "ticks": "",
           "title": {
            "standoff": 15
           },
           "zerolinecolor": "white",
           "zerolinewidth": 2
          }
         }
        },
        "xaxis": {
         "anchor": "y",
         "domain": [
          0,
          1
         ],
         "title": {
          "text": "Rank"
         }
        },
        "yaxis": {
         "anchor": "x",
         "domain": [
          0,
          1
         ],
         "title": {
          "text": "% Renewable"
         }
        }
       }
      }
     },
     "metadata": {},
     "output_type": "display_data"
    }
   ],
   "source": [
    "import plotly.express as px\n",
    "fig = px.scatter(ChartDF, x=\"Rank\", y=\"% Renewable\",\n",
    "          size=\"2015\", color=\"Continent\",\n",
    "                 hover_name=ChartDF.index, size_max=40, text=ChartDF.index)\n",
    "fig.show()"
   ]
  }
 ],
 "metadata": {
  "kernelspec": {
   "display_name": "Python 3.10.7 64-bit",
   "language": "python",
   "name": "python3"
  },
  "language_info": {
   "codemirror_mode": {
    "name": "ipython",
    "version": 3
   },
   "file_extension": ".py",
   "mimetype": "text/x-python",
   "name": "python",
   "nbconvert_exporter": "python",
   "pygments_lexer": "ipython3",
   "version": "3.10.7"
  },
  "vscode": {
   "interpreter": {
    "hash": "afb734500600fd355917ca529030176ea0ca205570884b88f2f6f7d791fd3fbe"
   }
  }
 },
 "nbformat": 4,
 "nbformat_minor": 5
}
